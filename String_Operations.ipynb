{
 "cells": [
  {
   "cell_type": "code",
   "execution_count": 1,
   "id": "297e35e6",
   "metadata": {},
   "outputs": [],
   "source": [
    "import pandas as pd\n",
    "import numpy as np\n",
    "import matplotlib.pyplot as plt\n",
    "%matplotlib inline\n",
    "\n",
    "import warnings\n",
    "warnings.filterwarnings(action='ignore')"
   ]
  },
  {
   "cell_type": "code",
   "execution_count": 2,
   "id": "5666460a",
   "metadata": {},
   "outputs": [],
   "source": [
    "dict1 = {'Name': ['Priyang Bhatt', 'Rashmin Panchal', 'Anil Rana', 'Rahul Patel'],\n",
    "        'City': [' New York ', ' Los Angeles ', ' Chicago', ' Houston'],\n",
    "        'State': ['NY', 'CA', 'IL', 'TX']}\n",
    "data = pd.DataFrame(dict1)"
   ]
  },
  {
   "cell_type": "code",
   "execution_count": 3,
   "id": "5933d3bb",
   "metadata": {},
   "outputs": [
    {
     "data": {
      "text/html": [
       "<div>\n",
       "<style scoped>\n",
       "    .dataframe tbody tr th:only-of-type {\n",
       "        vertical-align: middle;\n",
       "    }\n",
       "\n",
       "    .dataframe tbody tr th {\n",
       "        vertical-align: top;\n",
       "    }\n",
       "\n",
       "    .dataframe thead th {\n",
       "        text-align: right;\n",
       "    }\n",
       "</style>\n",
       "<table border=\"1\" class=\"dataframe\">\n",
       "  <thead>\n",
       "    <tr style=\"text-align: right;\">\n",
       "      <th></th>\n",
       "      <th>Name</th>\n",
       "      <th>City</th>\n",
       "      <th>State</th>\n",
       "    </tr>\n",
       "  </thead>\n",
       "  <tbody>\n",
       "    <tr>\n",
       "      <th>0</th>\n",
       "      <td>Priyang Bhatt</td>\n",
       "      <td>New York</td>\n",
       "      <td>NY</td>\n",
       "    </tr>\n",
       "    <tr>\n",
       "      <th>1</th>\n",
       "      <td>Rashmin Panchal</td>\n",
       "      <td>Los Angeles</td>\n",
       "      <td>CA</td>\n",
       "    </tr>\n",
       "    <tr>\n",
       "      <th>2</th>\n",
       "      <td>Anil Rana</td>\n",
       "      <td>Chicago</td>\n",
       "      <td>IL</td>\n",
       "    </tr>\n",
       "    <tr>\n",
       "      <th>3</th>\n",
       "      <td>Rahul Patel</td>\n",
       "      <td>Houston</td>\n",
       "      <td>TX</td>\n",
       "    </tr>\n",
       "  </tbody>\n",
       "</table>\n",
       "</div>"
      ],
      "text/plain": [
       "              Name           City State\n",
       "0    Priyang Bhatt      New York     NY\n",
       "1  Rashmin Panchal   Los Angeles     CA\n",
       "2        Anil Rana        Chicago    IL\n",
       "3      Rahul Patel        Houston    TX"
      ]
     },
     "execution_count": 3,
     "metadata": {},
     "output_type": "execute_result"
    }
   ],
   "source": [
    "data"
   ]
  },
  {
   "cell_type": "markdown",
   "id": "0ded86a6",
   "metadata": {},
   "source": [
    "### str.lower()"
   ]
  },
  {
   "cell_type": "code",
   "execution_count": 4,
   "id": "2aa7a51b",
   "metadata": {},
   "outputs": [],
   "source": [
    "data['name_lower'] = data['Name'].str.lower()"
   ]
  },
  {
   "cell_type": "code",
   "execution_count": 5,
   "id": "c5bfda37",
   "metadata": {},
   "outputs": [
    {
     "data": {
      "text/html": [
       "<div>\n",
       "<style scoped>\n",
       "    .dataframe tbody tr th:only-of-type {\n",
       "        vertical-align: middle;\n",
       "    }\n",
       "\n",
       "    .dataframe tbody tr th {\n",
       "        vertical-align: top;\n",
       "    }\n",
       "\n",
       "    .dataframe thead th {\n",
       "        text-align: right;\n",
       "    }\n",
       "</style>\n",
       "<table border=\"1\" class=\"dataframe\">\n",
       "  <thead>\n",
       "    <tr style=\"text-align: right;\">\n",
       "      <th></th>\n",
       "      <th>Name</th>\n",
       "      <th>City</th>\n",
       "      <th>State</th>\n",
       "      <th>name_lower</th>\n",
       "    </tr>\n",
       "  </thead>\n",
       "  <tbody>\n",
       "    <tr>\n",
       "      <th>0</th>\n",
       "      <td>Priyang Bhatt</td>\n",
       "      <td>New York</td>\n",
       "      <td>NY</td>\n",
       "      <td>priyang bhatt</td>\n",
       "    </tr>\n",
       "    <tr>\n",
       "      <th>1</th>\n",
       "      <td>Rashmin Panchal</td>\n",
       "      <td>Los Angeles</td>\n",
       "      <td>CA</td>\n",
       "      <td>rashmin panchal</td>\n",
       "    </tr>\n",
       "    <tr>\n",
       "      <th>2</th>\n",
       "      <td>Anil Rana</td>\n",
       "      <td>Chicago</td>\n",
       "      <td>IL</td>\n",
       "      <td>anil rana</td>\n",
       "    </tr>\n",
       "    <tr>\n",
       "      <th>3</th>\n",
       "      <td>Rahul Patel</td>\n",
       "      <td>Houston</td>\n",
       "      <td>TX</td>\n",
       "      <td>rahul patel</td>\n",
       "    </tr>\n",
       "  </tbody>\n",
       "</table>\n",
       "</div>"
      ],
      "text/plain": [
       "              Name           City State       name_lower\n",
       "0    Priyang Bhatt      New York     NY    priyang bhatt\n",
       "1  Rashmin Panchal   Los Angeles     CA  rashmin panchal\n",
       "2        Anil Rana        Chicago    IL        anil rana\n",
       "3      Rahul Patel        Houston    TX      rahul patel"
      ]
     },
     "execution_count": 5,
     "metadata": {},
     "output_type": "execute_result"
    }
   ],
   "source": [
    "data"
   ]
  },
  {
   "cell_type": "code",
   "execution_count": 6,
   "id": "2a41e216",
   "metadata": {},
   "outputs": [],
   "source": [
    "data['name_upper'] = data['Name'].str.upper()"
   ]
  },
  {
   "cell_type": "code",
   "execution_count": 7,
   "id": "09e44a10",
   "metadata": {},
   "outputs": [
    {
     "data": {
      "text/html": [
       "<div>\n",
       "<style scoped>\n",
       "    .dataframe tbody tr th:only-of-type {\n",
       "        vertical-align: middle;\n",
       "    }\n",
       "\n",
       "    .dataframe tbody tr th {\n",
       "        vertical-align: top;\n",
       "    }\n",
       "\n",
       "    .dataframe thead th {\n",
       "        text-align: right;\n",
       "    }\n",
       "</style>\n",
       "<table border=\"1\" class=\"dataframe\">\n",
       "  <thead>\n",
       "    <tr style=\"text-align: right;\">\n",
       "      <th></th>\n",
       "      <th>Name</th>\n",
       "      <th>City</th>\n",
       "      <th>State</th>\n",
       "      <th>name_lower</th>\n",
       "      <th>name_upper</th>\n",
       "    </tr>\n",
       "  </thead>\n",
       "  <tbody>\n",
       "    <tr>\n",
       "      <th>0</th>\n",
       "      <td>Priyang Bhatt</td>\n",
       "      <td>New York</td>\n",
       "      <td>NY</td>\n",
       "      <td>priyang bhatt</td>\n",
       "      <td>PRIYANG BHATT</td>\n",
       "    </tr>\n",
       "    <tr>\n",
       "      <th>1</th>\n",
       "      <td>Rashmin Panchal</td>\n",
       "      <td>Los Angeles</td>\n",
       "      <td>CA</td>\n",
       "      <td>rashmin panchal</td>\n",
       "      <td>RASHMIN PANCHAL</td>\n",
       "    </tr>\n",
       "    <tr>\n",
       "      <th>2</th>\n",
       "      <td>Anil Rana</td>\n",
       "      <td>Chicago</td>\n",
       "      <td>IL</td>\n",
       "      <td>anil rana</td>\n",
       "      <td>ANIL RANA</td>\n",
       "    </tr>\n",
       "    <tr>\n",
       "      <th>3</th>\n",
       "      <td>Rahul Patel</td>\n",
       "      <td>Houston</td>\n",
       "      <td>TX</td>\n",
       "      <td>rahul patel</td>\n",
       "      <td>RAHUL PATEL</td>\n",
       "    </tr>\n",
       "  </tbody>\n",
       "</table>\n",
       "</div>"
      ],
      "text/plain": [
       "              Name           City State       name_lower       name_upper\n",
       "0    Priyang Bhatt      New York     NY    priyang bhatt    PRIYANG BHATT\n",
       "1  Rashmin Panchal   Los Angeles     CA  rashmin panchal  RASHMIN PANCHAL\n",
       "2        Anil Rana        Chicago    IL        anil rana        ANIL RANA\n",
       "3      Rahul Patel        Houston    TX      rahul patel      RAHUL PATEL"
      ]
     },
     "execution_count": 7,
     "metadata": {},
     "output_type": "execute_result"
    }
   ],
   "source": [
    "data"
   ]
  },
  {
   "cell_type": "markdown",
   "id": "4634a65d",
   "metadata": {},
   "source": [
    "### str.len()"
   ]
  },
  {
   "cell_type": "code",
   "execution_count": 8,
   "id": "f3219dbf",
   "metadata": {},
   "outputs": [
    {
     "data": {
      "text/plain": [
       "0    13\n",
       "1    15\n",
       "2     9\n",
       "3    11\n",
       "Name: Name, dtype: int64"
      ]
     },
     "execution_count": 8,
     "metadata": {},
     "output_type": "execute_result"
    }
   ],
   "source": [
    "data['Name'].str.len()"
   ]
  },
  {
   "cell_type": "code",
   "execution_count": 9,
   "id": "64e9f47e",
   "metadata": {},
   "outputs": [
    {
     "data": {
      "text/html": [
       "<div>\n",
       "<style scoped>\n",
       "    .dataframe tbody tr th:only-of-type {\n",
       "        vertical-align: middle;\n",
       "    }\n",
       "\n",
       "    .dataframe tbody tr th {\n",
       "        vertical-align: top;\n",
       "    }\n",
       "\n",
       "    .dataframe thead th {\n",
       "        text-align: right;\n",
       "    }\n",
       "</style>\n",
       "<table border=\"1\" class=\"dataframe\">\n",
       "  <thead>\n",
       "    <tr style=\"text-align: right;\">\n",
       "      <th></th>\n",
       "      <th>Name</th>\n",
       "      <th>City</th>\n",
       "      <th>State</th>\n",
       "      <th>name_lower</th>\n",
       "      <th>name_upper</th>\n",
       "      <th>Name_len</th>\n",
       "    </tr>\n",
       "  </thead>\n",
       "  <tbody>\n",
       "    <tr>\n",
       "      <th>0</th>\n",
       "      <td>Priyang Bhatt</td>\n",
       "      <td>New York</td>\n",
       "      <td>NY</td>\n",
       "      <td>priyang bhatt</td>\n",
       "      <td>PRIYANG BHATT</td>\n",
       "      <td>13</td>\n",
       "    </tr>\n",
       "    <tr>\n",
       "      <th>1</th>\n",
       "      <td>Rashmin Panchal</td>\n",
       "      <td>Los Angeles</td>\n",
       "      <td>CA</td>\n",
       "      <td>rashmin panchal</td>\n",
       "      <td>RASHMIN PANCHAL</td>\n",
       "      <td>15</td>\n",
       "    </tr>\n",
       "    <tr>\n",
       "      <th>2</th>\n",
       "      <td>Anil Rana</td>\n",
       "      <td>Chicago</td>\n",
       "      <td>IL</td>\n",
       "      <td>anil rana</td>\n",
       "      <td>ANIL RANA</td>\n",
       "      <td>9</td>\n",
       "    </tr>\n",
       "    <tr>\n",
       "      <th>3</th>\n",
       "      <td>Rahul Patel</td>\n",
       "      <td>Houston</td>\n",
       "      <td>TX</td>\n",
       "      <td>rahul patel</td>\n",
       "      <td>RAHUL PATEL</td>\n",
       "      <td>11</td>\n",
       "    </tr>\n",
       "  </tbody>\n",
       "</table>\n",
       "</div>"
      ],
      "text/plain": [
       "              Name           City State       name_lower       name_upper  \\\n",
       "0    Priyang Bhatt      New York     NY    priyang bhatt    PRIYANG BHATT   \n",
       "1  Rashmin Panchal   Los Angeles     CA  rashmin panchal  RASHMIN PANCHAL   \n",
       "2        Anil Rana        Chicago    IL        anil rana        ANIL RANA   \n",
       "3      Rahul Patel        Houston    TX      rahul patel      RAHUL PATEL   \n",
       "\n",
       "   Name_len  \n",
       "0        13  \n",
       "1        15  \n",
       "2         9  \n",
       "3        11  "
      ]
     },
     "execution_count": 9,
     "metadata": {},
     "output_type": "execute_result"
    }
   ],
   "source": [
    "data['Name_len'] = data['Name'].str.len()\n",
    "data"
   ]
  },
  {
   "cell_type": "markdown",
   "id": "6453c91e",
   "metadata": {},
   "source": [
    "### str.strip()----to remove white spaces from beginning to end"
   ]
  },
  {
   "cell_type": "code",
   "execution_count": 10,
   "id": "253be0f8",
   "metadata": {},
   "outputs": [
    {
     "data": {
      "text/plain": [
       "' New York '"
      ]
     },
     "execution_count": 10,
     "metadata": {},
     "output_type": "execute_result"
    }
   ],
   "source": [
    "data['City'][0]"
   ]
  },
  {
   "cell_type": "code",
   "execution_count": 11,
   "id": "9725e4f6",
   "metadata": {},
   "outputs": [],
   "source": [
    "data['City_strip'] = data['City'].str.strip()"
   ]
  },
  {
   "cell_type": "code",
   "execution_count": 12,
   "id": "330d9604",
   "metadata": {},
   "outputs": [
    {
     "data": {
      "text/html": [
       "<div>\n",
       "<style scoped>\n",
       "    .dataframe tbody tr th:only-of-type {\n",
       "        vertical-align: middle;\n",
       "    }\n",
       "\n",
       "    .dataframe tbody tr th {\n",
       "        vertical-align: top;\n",
       "    }\n",
       "\n",
       "    .dataframe thead th {\n",
       "        text-align: right;\n",
       "    }\n",
       "</style>\n",
       "<table border=\"1\" class=\"dataframe\">\n",
       "  <thead>\n",
       "    <tr style=\"text-align: right;\">\n",
       "      <th></th>\n",
       "      <th>Name</th>\n",
       "      <th>City</th>\n",
       "      <th>State</th>\n",
       "      <th>name_lower</th>\n",
       "      <th>name_upper</th>\n",
       "      <th>Name_len</th>\n",
       "      <th>City_strip</th>\n",
       "    </tr>\n",
       "  </thead>\n",
       "  <tbody>\n",
       "    <tr>\n",
       "      <th>0</th>\n",
       "      <td>Priyang Bhatt</td>\n",
       "      <td>New York</td>\n",
       "      <td>NY</td>\n",
       "      <td>priyang bhatt</td>\n",
       "      <td>PRIYANG BHATT</td>\n",
       "      <td>13</td>\n",
       "      <td>New York</td>\n",
       "    </tr>\n",
       "    <tr>\n",
       "      <th>1</th>\n",
       "      <td>Rashmin Panchal</td>\n",
       "      <td>Los Angeles</td>\n",
       "      <td>CA</td>\n",
       "      <td>rashmin panchal</td>\n",
       "      <td>RASHMIN PANCHAL</td>\n",
       "      <td>15</td>\n",
       "      <td>Los Angeles</td>\n",
       "    </tr>\n",
       "    <tr>\n",
       "      <th>2</th>\n",
       "      <td>Anil Rana</td>\n",
       "      <td>Chicago</td>\n",
       "      <td>IL</td>\n",
       "      <td>anil rana</td>\n",
       "      <td>ANIL RANA</td>\n",
       "      <td>9</td>\n",
       "      <td>Chicago</td>\n",
       "    </tr>\n",
       "    <tr>\n",
       "      <th>3</th>\n",
       "      <td>Rahul Patel</td>\n",
       "      <td>Houston</td>\n",
       "      <td>TX</td>\n",
       "      <td>rahul patel</td>\n",
       "      <td>RAHUL PATEL</td>\n",
       "      <td>11</td>\n",
       "      <td>Houston</td>\n",
       "    </tr>\n",
       "  </tbody>\n",
       "</table>\n",
       "</div>"
      ],
      "text/plain": [
       "              Name           City State       name_lower       name_upper  \\\n",
       "0    Priyang Bhatt      New York     NY    priyang bhatt    PRIYANG BHATT   \n",
       "1  Rashmin Panchal   Los Angeles     CA  rashmin panchal  RASHMIN PANCHAL   \n",
       "2        Anil Rana        Chicago    IL        anil rana        ANIL RANA   \n",
       "3      Rahul Patel        Houston    TX      rahul patel      RAHUL PATEL   \n",
       "\n",
       "   Name_len   City_strip  \n",
       "0        13     New York  \n",
       "1        15  Los Angeles  \n",
       "2         9      Chicago  \n",
       "3        11      Houston  "
      ]
     },
     "execution_count": 12,
     "metadata": {},
     "output_type": "execute_result"
    }
   ],
   "source": [
    "data"
   ]
  },
  {
   "cell_type": "code",
   "execution_count": 13,
   "id": "99c8122f",
   "metadata": {},
   "outputs": [
    {
     "data": {
      "text/plain": [
       "'New York'"
      ]
     },
     "execution_count": 13,
     "metadata": {},
     "output_type": "execute_result"
    }
   ],
   "source": [
    "data['City_strip'][0]"
   ]
  },
  {
   "cell_type": "code",
   "execution_count": 14,
   "id": "4099baad",
   "metadata": {},
   "outputs": [
    {
     "data": {
      "text/plain": [
       "' New York '"
      ]
     },
     "execution_count": 14,
     "metadata": {},
     "output_type": "execute_result"
    }
   ],
   "source": [
    "# to remove left white spaces & right white spaces separately\n",
    "\n",
    "data['City'][0]"
   ]
  },
  {
   "cell_type": "code",
   "execution_count": 15,
   "id": "238fe57d",
   "metadata": {},
   "outputs": [],
   "source": [
    "data['City_lstrip'] = data['City'].str.lstrip()"
   ]
  },
  {
   "cell_type": "code",
   "execution_count": 16,
   "id": "4b89f82f",
   "metadata": {},
   "outputs": [
    {
     "data": {
      "text/html": [
       "<div>\n",
       "<style scoped>\n",
       "    .dataframe tbody tr th:only-of-type {\n",
       "        vertical-align: middle;\n",
       "    }\n",
       "\n",
       "    .dataframe tbody tr th {\n",
       "        vertical-align: top;\n",
       "    }\n",
       "\n",
       "    .dataframe thead th {\n",
       "        text-align: right;\n",
       "    }\n",
       "</style>\n",
       "<table border=\"1\" class=\"dataframe\">\n",
       "  <thead>\n",
       "    <tr style=\"text-align: right;\">\n",
       "      <th></th>\n",
       "      <th>Name</th>\n",
       "      <th>City</th>\n",
       "      <th>State</th>\n",
       "      <th>name_lower</th>\n",
       "      <th>name_upper</th>\n",
       "      <th>Name_len</th>\n",
       "      <th>City_strip</th>\n",
       "      <th>City_lstrip</th>\n",
       "    </tr>\n",
       "  </thead>\n",
       "  <tbody>\n",
       "    <tr>\n",
       "      <th>0</th>\n",
       "      <td>Priyang Bhatt</td>\n",
       "      <td>New York</td>\n",
       "      <td>NY</td>\n",
       "      <td>priyang bhatt</td>\n",
       "      <td>PRIYANG BHATT</td>\n",
       "      <td>13</td>\n",
       "      <td>New York</td>\n",
       "      <td>New York</td>\n",
       "    </tr>\n",
       "    <tr>\n",
       "      <th>1</th>\n",
       "      <td>Rashmin Panchal</td>\n",
       "      <td>Los Angeles</td>\n",
       "      <td>CA</td>\n",
       "      <td>rashmin panchal</td>\n",
       "      <td>RASHMIN PANCHAL</td>\n",
       "      <td>15</td>\n",
       "      <td>Los Angeles</td>\n",
       "      <td>Los Angeles</td>\n",
       "    </tr>\n",
       "    <tr>\n",
       "      <th>2</th>\n",
       "      <td>Anil Rana</td>\n",
       "      <td>Chicago</td>\n",
       "      <td>IL</td>\n",
       "      <td>anil rana</td>\n",
       "      <td>ANIL RANA</td>\n",
       "      <td>9</td>\n",
       "      <td>Chicago</td>\n",
       "      <td>Chicago</td>\n",
       "    </tr>\n",
       "    <tr>\n",
       "      <th>3</th>\n",
       "      <td>Rahul Patel</td>\n",
       "      <td>Houston</td>\n",
       "      <td>TX</td>\n",
       "      <td>rahul patel</td>\n",
       "      <td>RAHUL PATEL</td>\n",
       "      <td>11</td>\n",
       "      <td>Houston</td>\n",
       "      <td>Houston</td>\n",
       "    </tr>\n",
       "  </tbody>\n",
       "</table>\n",
       "</div>"
      ],
      "text/plain": [
       "              Name           City State       name_lower       name_upper  \\\n",
       "0    Priyang Bhatt      New York     NY    priyang bhatt    PRIYANG BHATT   \n",
       "1  Rashmin Panchal   Los Angeles     CA  rashmin panchal  RASHMIN PANCHAL   \n",
       "2        Anil Rana        Chicago    IL        anil rana        ANIL RANA   \n",
       "3      Rahul Patel        Houston    TX      rahul patel      RAHUL PATEL   \n",
       "\n",
       "   Name_len   City_strip   City_lstrip  \n",
       "0        13     New York     New York   \n",
       "1        15  Los Angeles  Los Angeles   \n",
       "2         9      Chicago       Chicago  \n",
       "3        11      Houston       Houston  "
      ]
     },
     "execution_count": 16,
     "metadata": {},
     "output_type": "execute_result"
    }
   ],
   "source": [
    "data"
   ]
  },
  {
   "cell_type": "code",
   "execution_count": 17,
   "id": "8a93bbf8",
   "metadata": {},
   "outputs": [
    {
     "data": {
      "text/plain": [
       "'New York '"
      ]
     },
     "execution_count": 17,
     "metadata": {},
     "output_type": "execute_result"
    }
   ],
   "source": [
    "data['City_lstrip'][0]"
   ]
  },
  {
   "cell_type": "code",
   "execution_count": 18,
   "id": "1160e969",
   "metadata": {},
   "outputs": [],
   "source": [
    "data['City_rstrip'] = data['City'].str.rstrip()"
   ]
  },
  {
   "cell_type": "code",
   "execution_count": 19,
   "id": "7eb8f517",
   "metadata": {},
   "outputs": [
    {
     "data": {
      "text/plain": [
       "' New York'"
      ]
     },
     "execution_count": 19,
     "metadata": {},
     "output_type": "execute_result"
    }
   ],
   "source": [
    "data['City_rstrip'][0]"
   ]
  },
  {
   "cell_type": "markdown",
   "id": "6f507dee",
   "metadata": {},
   "source": [
    "### str.split()----to split the string"
   ]
  },
  {
   "cell_type": "code",
   "execution_count": 20,
   "id": "d8817a4e",
   "metadata": {},
   "outputs": [
    {
     "data": {
      "text/html": [
       "<div>\n",
       "<style scoped>\n",
       "    .dataframe tbody tr th:only-of-type {\n",
       "        vertical-align: middle;\n",
       "    }\n",
       "\n",
       "    .dataframe tbody tr th {\n",
       "        vertical-align: top;\n",
       "    }\n",
       "\n",
       "    .dataframe thead th {\n",
       "        text-align: right;\n",
       "    }\n",
       "</style>\n",
       "<table border=\"1\" class=\"dataframe\">\n",
       "  <thead>\n",
       "    <tr style=\"text-align: right;\">\n",
       "      <th></th>\n",
       "      <th>Name</th>\n",
       "      <th>City</th>\n",
       "      <th>State</th>\n",
       "      <th>name_lower</th>\n",
       "      <th>name_upper</th>\n",
       "      <th>Name_len</th>\n",
       "      <th>City_strip</th>\n",
       "      <th>City_lstrip</th>\n",
       "      <th>City_rstrip</th>\n",
       "    </tr>\n",
       "  </thead>\n",
       "  <tbody>\n",
       "    <tr>\n",
       "      <th>0</th>\n",
       "      <td>Priyang Bhatt</td>\n",
       "      <td>New York</td>\n",
       "      <td>NY</td>\n",
       "      <td>priyang bhatt</td>\n",
       "      <td>PRIYANG BHATT</td>\n",
       "      <td>13</td>\n",
       "      <td>New York</td>\n",
       "      <td>New York</td>\n",
       "      <td>New York</td>\n",
       "    </tr>\n",
       "    <tr>\n",
       "      <th>1</th>\n",
       "      <td>Rashmin Panchal</td>\n",
       "      <td>Los Angeles</td>\n",
       "      <td>CA</td>\n",
       "      <td>rashmin panchal</td>\n",
       "      <td>RASHMIN PANCHAL</td>\n",
       "      <td>15</td>\n",
       "      <td>Los Angeles</td>\n",
       "      <td>Los Angeles</td>\n",
       "      <td>Los Angeles</td>\n",
       "    </tr>\n",
       "    <tr>\n",
       "      <th>2</th>\n",
       "      <td>Anil Rana</td>\n",
       "      <td>Chicago</td>\n",
       "      <td>IL</td>\n",
       "      <td>anil rana</td>\n",
       "      <td>ANIL RANA</td>\n",
       "      <td>9</td>\n",
       "      <td>Chicago</td>\n",
       "      <td>Chicago</td>\n",
       "      <td>Chicago</td>\n",
       "    </tr>\n",
       "    <tr>\n",
       "      <th>3</th>\n",
       "      <td>Rahul Patel</td>\n",
       "      <td>Houston</td>\n",
       "      <td>TX</td>\n",
       "      <td>rahul patel</td>\n",
       "      <td>RAHUL PATEL</td>\n",
       "      <td>11</td>\n",
       "      <td>Houston</td>\n",
       "      <td>Houston</td>\n",
       "      <td>Houston</td>\n",
       "    </tr>\n",
       "  </tbody>\n",
       "</table>\n",
       "</div>"
      ],
      "text/plain": [
       "              Name           City State       name_lower       name_upper  \\\n",
       "0    Priyang Bhatt      New York     NY    priyang bhatt    PRIYANG BHATT   \n",
       "1  Rashmin Panchal   Los Angeles     CA  rashmin panchal  RASHMIN PANCHAL   \n",
       "2        Anil Rana        Chicago    IL        anil rana        ANIL RANA   \n",
       "3      Rahul Patel        Houston    TX      rahul patel      RAHUL PATEL   \n",
       "\n",
       "   Name_len   City_strip   City_lstrip   City_rstrip  \n",
       "0        13     New York     New York       New York  \n",
       "1        15  Los Angeles  Los Angeles    Los Angeles  \n",
       "2         9      Chicago       Chicago       Chicago  \n",
       "3        11      Houston       Houston       Houston  "
      ]
     },
     "execution_count": 20,
     "metadata": {},
     "output_type": "execute_result"
    }
   ],
   "source": [
    "data"
   ]
  },
  {
   "cell_type": "code",
   "execution_count": 21,
   "id": "b624b03b",
   "metadata": {},
   "outputs": [],
   "source": [
    "# expand = True, the result will be written in the dataframe, one column for each substring\n",
    "\n",
    "data[['first_name', 'second_name']] = data['Name'].str.split(' ', expand=True)"
   ]
  },
  {
   "cell_type": "code",
   "execution_count": 22,
   "id": "3b7d9f32",
   "metadata": {},
   "outputs": [
    {
     "data": {
      "text/html": [
       "<div>\n",
       "<style scoped>\n",
       "    .dataframe tbody tr th:only-of-type {\n",
       "        vertical-align: middle;\n",
       "    }\n",
       "\n",
       "    .dataframe tbody tr th {\n",
       "        vertical-align: top;\n",
       "    }\n",
       "\n",
       "    .dataframe thead th {\n",
       "        text-align: right;\n",
       "    }\n",
       "</style>\n",
       "<table border=\"1\" class=\"dataframe\">\n",
       "  <thead>\n",
       "    <tr style=\"text-align: right;\">\n",
       "      <th></th>\n",
       "      <th>Name</th>\n",
       "      <th>City</th>\n",
       "      <th>State</th>\n",
       "      <th>name_lower</th>\n",
       "      <th>name_upper</th>\n",
       "      <th>Name_len</th>\n",
       "      <th>City_strip</th>\n",
       "      <th>City_lstrip</th>\n",
       "      <th>City_rstrip</th>\n",
       "      <th>first_name</th>\n",
       "      <th>second_name</th>\n",
       "    </tr>\n",
       "  </thead>\n",
       "  <tbody>\n",
       "    <tr>\n",
       "      <th>0</th>\n",
       "      <td>Priyang Bhatt</td>\n",
       "      <td>New York</td>\n",
       "      <td>NY</td>\n",
       "      <td>priyang bhatt</td>\n",
       "      <td>PRIYANG BHATT</td>\n",
       "      <td>13</td>\n",
       "      <td>New York</td>\n",
       "      <td>New York</td>\n",
       "      <td>New York</td>\n",
       "      <td>Priyang</td>\n",
       "      <td>Bhatt</td>\n",
       "    </tr>\n",
       "    <tr>\n",
       "      <th>1</th>\n",
       "      <td>Rashmin Panchal</td>\n",
       "      <td>Los Angeles</td>\n",
       "      <td>CA</td>\n",
       "      <td>rashmin panchal</td>\n",
       "      <td>RASHMIN PANCHAL</td>\n",
       "      <td>15</td>\n",
       "      <td>Los Angeles</td>\n",
       "      <td>Los Angeles</td>\n",
       "      <td>Los Angeles</td>\n",
       "      <td>Rashmin</td>\n",
       "      <td>Panchal</td>\n",
       "    </tr>\n",
       "    <tr>\n",
       "      <th>2</th>\n",
       "      <td>Anil Rana</td>\n",
       "      <td>Chicago</td>\n",
       "      <td>IL</td>\n",
       "      <td>anil rana</td>\n",
       "      <td>ANIL RANA</td>\n",
       "      <td>9</td>\n",
       "      <td>Chicago</td>\n",
       "      <td>Chicago</td>\n",
       "      <td>Chicago</td>\n",
       "      <td>Anil</td>\n",
       "      <td>Rana</td>\n",
       "    </tr>\n",
       "    <tr>\n",
       "      <th>3</th>\n",
       "      <td>Rahul Patel</td>\n",
       "      <td>Houston</td>\n",
       "      <td>TX</td>\n",
       "      <td>rahul patel</td>\n",
       "      <td>RAHUL PATEL</td>\n",
       "      <td>11</td>\n",
       "      <td>Houston</td>\n",
       "      <td>Houston</td>\n",
       "      <td>Houston</td>\n",
       "      <td>Rahul</td>\n",
       "      <td>Patel</td>\n",
       "    </tr>\n",
       "  </tbody>\n",
       "</table>\n",
       "</div>"
      ],
      "text/plain": [
       "              Name           City State       name_lower       name_upper  \\\n",
       "0    Priyang Bhatt      New York     NY    priyang bhatt    PRIYANG BHATT   \n",
       "1  Rashmin Panchal   Los Angeles     CA  rashmin panchal  RASHMIN PANCHAL   \n",
       "2        Anil Rana        Chicago    IL        anil rana        ANIL RANA   \n",
       "3      Rahul Patel        Houston    TX      rahul patel      RAHUL PATEL   \n",
       "\n",
       "   Name_len   City_strip   City_lstrip   City_rstrip first_name second_name  \n",
       "0        13     New York     New York       New York    Priyang       Bhatt  \n",
       "1        15  Los Angeles  Los Angeles    Los Angeles    Rashmin     Panchal  \n",
       "2         9      Chicago       Chicago       Chicago       Anil        Rana  \n",
       "3        11      Houston       Houston       Houston      Rahul       Patel  "
      ]
     },
     "execution_count": 22,
     "metadata": {},
     "output_type": "execute_result"
    }
   ],
   "source": [
    "data"
   ]
  },
  {
   "cell_type": "markdown",
   "id": "65e7b61b",
   "metadata": {},
   "source": [
    "### str.contains()----to check substring"
   ]
  },
  {
   "cell_type": "code",
   "execution_count": 23,
   "id": "631b323b",
   "metadata": {},
   "outputs": [
    {
     "data": {
      "text/html": [
       "<div>\n",
       "<style scoped>\n",
       "    .dataframe tbody tr th:only-of-type {\n",
       "        vertical-align: middle;\n",
       "    }\n",
       "\n",
       "    .dataframe tbody tr th {\n",
       "        vertical-align: top;\n",
       "    }\n",
       "\n",
       "    .dataframe thead th {\n",
       "        text-align: right;\n",
       "    }\n",
       "</style>\n",
       "<table border=\"1\" class=\"dataframe\">\n",
       "  <thead>\n",
       "    <tr style=\"text-align: right;\">\n",
       "      <th></th>\n",
       "      <th>Name</th>\n",
       "      <th>City</th>\n",
       "      <th>State</th>\n",
       "      <th>name_lower</th>\n",
       "      <th>name_upper</th>\n",
       "      <th>Name_len</th>\n",
       "      <th>City_strip</th>\n",
       "      <th>City_lstrip</th>\n",
       "      <th>City_rstrip</th>\n",
       "      <th>first_name</th>\n",
       "      <th>second_name</th>\n",
       "    </tr>\n",
       "  </thead>\n",
       "  <tbody>\n",
       "    <tr>\n",
       "      <th>0</th>\n",
       "      <td>Priyang Bhatt</td>\n",
       "      <td>New York</td>\n",
       "      <td>NY</td>\n",
       "      <td>priyang bhatt</td>\n",
       "      <td>PRIYANG BHATT</td>\n",
       "      <td>13</td>\n",
       "      <td>New York</td>\n",
       "      <td>New York</td>\n",
       "      <td>New York</td>\n",
       "      <td>Priyang</td>\n",
       "      <td>Bhatt</td>\n",
       "    </tr>\n",
       "  </tbody>\n",
       "</table>\n",
       "</div>"
      ],
      "text/plain": [
       "            Name        City State     name_lower     name_upper  Name_len  \\\n",
       "0  Priyang Bhatt   New York     NY  priyang bhatt  PRIYANG BHATT        13   \n",
       "\n",
       "  City_strip City_lstrip City_rstrip first_name second_name  \n",
       "0   New York   New York     New York    Priyang       Bhatt  "
      ]
     },
     "execution_count": 23,
     "metadata": {},
     "output_type": "execute_result"
    }
   ],
   "source": [
    "data[data['Name'].str.contains('Bhatt')]"
   ]
  },
  {
   "cell_type": "markdown",
   "id": "a15f69fd",
   "metadata": {},
   "source": [
    "### str.replace()---to replace the string"
   ]
  },
  {
   "cell_type": "code",
   "execution_count": 24,
   "id": "fe24134b",
   "metadata": {},
   "outputs": [
    {
     "data": {
      "text/html": [
       "<div>\n",
       "<style scoped>\n",
       "    .dataframe tbody tr th:only-of-type {\n",
       "        vertical-align: middle;\n",
       "    }\n",
       "\n",
       "    .dataframe tbody tr th {\n",
       "        vertical-align: top;\n",
       "    }\n",
       "\n",
       "    .dataframe thead th {\n",
       "        text-align: right;\n",
       "    }\n",
       "</style>\n",
       "<table border=\"1\" class=\"dataframe\">\n",
       "  <thead>\n",
       "    <tr style=\"text-align: right;\">\n",
       "      <th></th>\n",
       "      <th>Name</th>\n",
       "      <th>City</th>\n",
       "      <th>State</th>\n",
       "      <th>name_lower</th>\n",
       "      <th>name_upper</th>\n",
       "      <th>Name_len</th>\n",
       "      <th>City_strip</th>\n",
       "      <th>City_lstrip</th>\n",
       "      <th>City_rstrip</th>\n",
       "      <th>first_name</th>\n",
       "      <th>second_name</th>\n",
       "    </tr>\n",
       "  </thead>\n",
       "  <tbody>\n",
       "    <tr>\n",
       "      <th>0</th>\n",
       "      <td>Priyang Bhatt</td>\n",
       "      <td>New York</td>\n",
       "      <td>NY</td>\n",
       "      <td>priyang bhatt</td>\n",
       "      <td>PRIYANG BHATT</td>\n",
       "      <td>13</td>\n",
       "      <td>New York</td>\n",
       "      <td>New York</td>\n",
       "      <td>New York</td>\n",
       "      <td>Priyang</td>\n",
       "      <td>Bhatt</td>\n",
       "    </tr>\n",
       "    <tr>\n",
       "      <th>1</th>\n",
       "      <td>Rashmin Panchal</td>\n",
       "      <td>Los Angeles</td>\n",
       "      <td>CA</td>\n",
       "      <td>rashmin panchal</td>\n",
       "      <td>RASHMIN PANCHAL</td>\n",
       "      <td>15</td>\n",
       "      <td>Los Angeles</td>\n",
       "      <td>Los Angeles</td>\n",
       "      <td>Los Angeles</td>\n",
       "      <td>Rashmin</td>\n",
       "      <td>Panchal</td>\n",
       "    </tr>\n",
       "    <tr>\n",
       "      <th>2</th>\n",
       "      <td>Anil Rana</td>\n",
       "      <td>Chicago</td>\n",
       "      <td>IL</td>\n",
       "      <td>anil rana</td>\n",
       "      <td>ANIL RANA</td>\n",
       "      <td>9</td>\n",
       "      <td>Chicago</td>\n",
       "      <td>Chicago</td>\n",
       "      <td>Chicago</td>\n",
       "      <td>Anil</td>\n",
       "      <td>Rana</td>\n",
       "    </tr>\n",
       "    <tr>\n",
       "      <th>3</th>\n",
       "      <td>Rahul Patel</td>\n",
       "      <td>Houston</td>\n",
       "      <td>TX</td>\n",
       "      <td>rahul patel</td>\n",
       "      <td>RAHUL PATEL</td>\n",
       "      <td>11</td>\n",
       "      <td>Houston</td>\n",
       "      <td>Houston</td>\n",
       "      <td>Houston</td>\n",
       "      <td>Rahul</td>\n",
       "      <td>Patel</td>\n",
       "    </tr>\n",
       "  </tbody>\n",
       "</table>\n",
       "</div>"
      ],
      "text/plain": [
       "              Name           City State       name_lower       name_upper  \\\n",
       "0    Priyang Bhatt      New York     NY    priyang bhatt    PRIYANG BHATT   \n",
       "1  Rashmin Panchal   Los Angeles     CA  rashmin panchal  RASHMIN PANCHAL   \n",
       "2        Anil Rana        Chicago    IL        anil rana        ANIL RANA   \n",
       "3      Rahul Patel        Houston    TX      rahul patel      RAHUL PATEL   \n",
       "\n",
       "   Name_len   City_strip   City_lstrip   City_rstrip first_name second_name  \n",
       "0        13     New York     New York       New York    Priyang       Bhatt  \n",
       "1        15  Los Angeles  Los Angeles    Los Angeles    Rashmin     Panchal  \n",
       "2         9      Chicago       Chicago       Chicago       Anil        Rana  \n",
       "3        11      Houston       Houston       Houston      Rahul       Patel  "
      ]
     },
     "execution_count": 24,
     "metadata": {},
     "output_type": "execute_result"
    }
   ],
   "source": [
    "data"
   ]
  },
  {
   "cell_type": "code",
   "execution_count": 25,
   "id": "22082a9f",
   "metadata": {},
   "outputs": [
    {
     "data": {
      "text/plain": [
       "0    New York\n",
       "1          CA\n",
       "2          IL\n",
       "3          TX\n",
       "Name: State, dtype: object"
      ]
     },
     "execution_count": 25,
     "metadata": {},
     "output_type": "execute_result"
    }
   ],
   "source": [
    "data['State'].str.replace('NY', 'New York')"
   ]
  },
  {
   "cell_type": "code",
   "execution_count": 26,
   "id": "9a31c5f6",
   "metadata": {},
   "outputs": [],
   "source": [
    "data['State_replace'] = data['State'].str.replace('NY', 'New York')"
   ]
  },
  {
   "cell_type": "code",
   "execution_count": 27,
   "id": "47c9d47e",
   "metadata": {},
   "outputs": [
    {
     "data": {
      "text/html": [
       "<div>\n",
       "<style scoped>\n",
       "    .dataframe tbody tr th:only-of-type {\n",
       "        vertical-align: middle;\n",
       "    }\n",
       "\n",
       "    .dataframe tbody tr th {\n",
       "        vertical-align: top;\n",
       "    }\n",
       "\n",
       "    .dataframe thead th {\n",
       "        text-align: right;\n",
       "    }\n",
       "</style>\n",
       "<table border=\"1\" class=\"dataframe\">\n",
       "  <thead>\n",
       "    <tr style=\"text-align: right;\">\n",
       "      <th></th>\n",
       "      <th>Name</th>\n",
       "      <th>City</th>\n",
       "      <th>State</th>\n",
       "      <th>name_lower</th>\n",
       "      <th>name_upper</th>\n",
       "      <th>Name_len</th>\n",
       "      <th>City_strip</th>\n",
       "      <th>City_lstrip</th>\n",
       "      <th>City_rstrip</th>\n",
       "      <th>first_name</th>\n",
       "      <th>second_name</th>\n",
       "      <th>State_replace</th>\n",
       "    </tr>\n",
       "  </thead>\n",
       "  <tbody>\n",
       "    <tr>\n",
       "      <th>0</th>\n",
       "      <td>Priyang Bhatt</td>\n",
       "      <td>New York</td>\n",
       "      <td>NY</td>\n",
       "      <td>priyang bhatt</td>\n",
       "      <td>PRIYANG BHATT</td>\n",
       "      <td>13</td>\n",
       "      <td>New York</td>\n",
       "      <td>New York</td>\n",
       "      <td>New York</td>\n",
       "      <td>Priyang</td>\n",
       "      <td>Bhatt</td>\n",
       "      <td>New York</td>\n",
       "    </tr>\n",
       "    <tr>\n",
       "      <th>1</th>\n",
       "      <td>Rashmin Panchal</td>\n",
       "      <td>Los Angeles</td>\n",
       "      <td>CA</td>\n",
       "      <td>rashmin panchal</td>\n",
       "      <td>RASHMIN PANCHAL</td>\n",
       "      <td>15</td>\n",
       "      <td>Los Angeles</td>\n",
       "      <td>Los Angeles</td>\n",
       "      <td>Los Angeles</td>\n",
       "      <td>Rashmin</td>\n",
       "      <td>Panchal</td>\n",
       "      <td>CA</td>\n",
       "    </tr>\n",
       "    <tr>\n",
       "      <th>2</th>\n",
       "      <td>Anil Rana</td>\n",
       "      <td>Chicago</td>\n",
       "      <td>IL</td>\n",
       "      <td>anil rana</td>\n",
       "      <td>ANIL RANA</td>\n",
       "      <td>9</td>\n",
       "      <td>Chicago</td>\n",
       "      <td>Chicago</td>\n",
       "      <td>Chicago</td>\n",
       "      <td>Anil</td>\n",
       "      <td>Rana</td>\n",
       "      <td>IL</td>\n",
       "    </tr>\n",
       "    <tr>\n",
       "      <th>3</th>\n",
       "      <td>Rahul Patel</td>\n",
       "      <td>Houston</td>\n",
       "      <td>TX</td>\n",
       "      <td>rahul patel</td>\n",
       "      <td>RAHUL PATEL</td>\n",
       "      <td>11</td>\n",
       "      <td>Houston</td>\n",
       "      <td>Houston</td>\n",
       "      <td>Houston</td>\n",
       "      <td>Rahul</td>\n",
       "      <td>Patel</td>\n",
       "      <td>TX</td>\n",
       "    </tr>\n",
       "  </tbody>\n",
       "</table>\n",
       "</div>"
      ],
      "text/plain": [
       "              Name           City State       name_lower       name_upper  \\\n",
       "0    Priyang Bhatt      New York     NY    priyang bhatt    PRIYANG BHATT   \n",
       "1  Rashmin Panchal   Los Angeles     CA  rashmin panchal  RASHMIN PANCHAL   \n",
       "2        Anil Rana        Chicago    IL        anil rana        ANIL RANA   \n",
       "3      Rahul Patel        Houston    TX      rahul patel      RAHUL PATEL   \n",
       "\n",
       "   Name_len   City_strip   City_lstrip   City_rstrip first_name second_name  \\\n",
       "0        13     New York     New York       New York    Priyang       Bhatt   \n",
       "1        15  Los Angeles  Los Angeles    Los Angeles    Rashmin     Panchal   \n",
       "2         9      Chicago       Chicago       Chicago       Anil        Rana   \n",
       "3        11      Houston       Houston       Houston      Rahul       Patel   \n",
       "\n",
       "  State_replace  \n",
       "0      New York  \n",
       "1            CA  \n",
       "2            IL  \n",
       "3            TX  "
      ]
     },
     "execution_count": 27,
     "metadata": {},
     "output_type": "execute_result"
    }
   ],
   "source": [
    "data"
   ]
  },
  {
   "cell_type": "code",
   "execution_count": 28,
   "id": "30bdbee9",
   "metadata": {},
   "outputs": [],
   "source": [
    "# we can replace with chian format also\n",
    "\n",
    "data['State_replace'] = data['State'].str.replace('NY', 'New York').str.replace('CA', 'Los Angeles')"
   ]
  },
  {
   "cell_type": "code",
   "execution_count": 29,
   "id": "e318448b",
   "metadata": {},
   "outputs": [
    {
     "data": {
      "text/html": [
       "<div>\n",
       "<style scoped>\n",
       "    .dataframe tbody tr th:only-of-type {\n",
       "        vertical-align: middle;\n",
       "    }\n",
       "\n",
       "    .dataframe tbody tr th {\n",
       "        vertical-align: top;\n",
       "    }\n",
       "\n",
       "    .dataframe thead th {\n",
       "        text-align: right;\n",
       "    }\n",
       "</style>\n",
       "<table border=\"1\" class=\"dataframe\">\n",
       "  <thead>\n",
       "    <tr style=\"text-align: right;\">\n",
       "      <th></th>\n",
       "      <th>Name</th>\n",
       "      <th>City</th>\n",
       "      <th>State</th>\n",
       "      <th>name_lower</th>\n",
       "      <th>name_upper</th>\n",
       "      <th>Name_len</th>\n",
       "      <th>City_strip</th>\n",
       "      <th>City_lstrip</th>\n",
       "      <th>City_rstrip</th>\n",
       "      <th>first_name</th>\n",
       "      <th>second_name</th>\n",
       "      <th>State_replace</th>\n",
       "    </tr>\n",
       "  </thead>\n",
       "  <tbody>\n",
       "    <tr>\n",
       "      <th>0</th>\n",
       "      <td>Priyang Bhatt</td>\n",
       "      <td>New York</td>\n",
       "      <td>NY</td>\n",
       "      <td>priyang bhatt</td>\n",
       "      <td>PRIYANG BHATT</td>\n",
       "      <td>13</td>\n",
       "      <td>New York</td>\n",
       "      <td>New York</td>\n",
       "      <td>New York</td>\n",
       "      <td>Priyang</td>\n",
       "      <td>Bhatt</td>\n",
       "      <td>New York</td>\n",
       "    </tr>\n",
       "    <tr>\n",
       "      <th>1</th>\n",
       "      <td>Rashmin Panchal</td>\n",
       "      <td>Los Angeles</td>\n",
       "      <td>CA</td>\n",
       "      <td>rashmin panchal</td>\n",
       "      <td>RASHMIN PANCHAL</td>\n",
       "      <td>15</td>\n",
       "      <td>Los Angeles</td>\n",
       "      <td>Los Angeles</td>\n",
       "      <td>Los Angeles</td>\n",
       "      <td>Rashmin</td>\n",
       "      <td>Panchal</td>\n",
       "      <td>Los Angeles</td>\n",
       "    </tr>\n",
       "    <tr>\n",
       "      <th>2</th>\n",
       "      <td>Anil Rana</td>\n",
       "      <td>Chicago</td>\n",
       "      <td>IL</td>\n",
       "      <td>anil rana</td>\n",
       "      <td>ANIL RANA</td>\n",
       "      <td>9</td>\n",
       "      <td>Chicago</td>\n",
       "      <td>Chicago</td>\n",
       "      <td>Chicago</td>\n",
       "      <td>Anil</td>\n",
       "      <td>Rana</td>\n",
       "      <td>IL</td>\n",
       "    </tr>\n",
       "    <tr>\n",
       "      <th>3</th>\n",
       "      <td>Rahul Patel</td>\n",
       "      <td>Houston</td>\n",
       "      <td>TX</td>\n",
       "      <td>rahul patel</td>\n",
       "      <td>RAHUL PATEL</td>\n",
       "      <td>11</td>\n",
       "      <td>Houston</td>\n",
       "      <td>Houston</td>\n",
       "      <td>Houston</td>\n",
       "      <td>Rahul</td>\n",
       "      <td>Patel</td>\n",
       "      <td>TX</td>\n",
       "    </tr>\n",
       "  </tbody>\n",
       "</table>\n",
       "</div>"
      ],
      "text/plain": [
       "              Name           City State       name_lower       name_upper  \\\n",
       "0    Priyang Bhatt      New York     NY    priyang bhatt    PRIYANG BHATT   \n",
       "1  Rashmin Panchal   Los Angeles     CA  rashmin panchal  RASHMIN PANCHAL   \n",
       "2        Anil Rana        Chicago    IL        anil rana        ANIL RANA   \n",
       "3      Rahul Patel        Houston    TX      rahul patel      RAHUL PATEL   \n",
       "\n",
       "   Name_len   City_strip   City_lstrip   City_rstrip first_name second_name  \\\n",
       "0        13     New York     New York       New York    Priyang       Bhatt   \n",
       "1        15  Los Angeles  Los Angeles    Los Angeles    Rashmin     Panchal   \n",
       "2         9      Chicago       Chicago       Chicago       Anil        Rana   \n",
       "3        11      Houston       Houston       Houston      Rahul       Patel   \n",
       "\n",
       "  State_replace  \n",
       "0      New York  \n",
       "1   Los Angeles  \n",
       "2            IL  \n",
       "3            TX  "
      ]
     },
     "execution_count": 29,
     "metadata": {},
     "output_type": "execute_result"
    }
   ],
   "source": [
    "data"
   ]
  },
  {
   "cell_type": "markdown",
   "id": "5f67b786",
   "metadata": {},
   "source": [
    "### str.startswith()"
   ]
  },
  {
   "cell_type": "code",
   "execution_count": 31,
   "id": "24abefdc",
   "metadata": {},
   "outputs": [
    {
     "data": {
      "text/html": [
       "<div>\n",
       "<style scoped>\n",
       "    .dataframe tbody tr th:only-of-type {\n",
       "        vertical-align: middle;\n",
       "    }\n",
       "\n",
       "    .dataframe tbody tr th {\n",
       "        vertical-align: top;\n",
       "    }\n",
       "\n",
       "    .dataframe thead th {\n",
       "        text-align: right;\n",
       "    }\n",
       "</style>\n",
       "<table border=\"1\" class=\"dataframe\">\n",
       "  <thead>\n",
       "    <tr style=\"text-align: right;\">\n",
       "      <th></th>\n",
       "      <th>Name</th>\n",
       "      <th>City</th>\n",
       "      <th>State</th>\n",
       "      <th>name_lower</th>\n",
       "      <th>name_upper</th>\n",
       "      <th>Name_len</th>\n",
       "      <th>City_strip</th>\n",
       "      <th>City_lstrip</th>\n",
       "      <th>City_rstrip</th>\n",
       "      <th>first_name</th>\n",
       "      <th>second_name</th>\n",
       "      <th>State_replace</th>\n",
       "    </tr>\n",
       "  </thead>\n",
       "  <tbody>\n",
       "    <tr>\n",
       "      <th>0</th>\n",
       "      <td>Priyang Bhatt</td>\n",
       "      <td>New York</td>\n",
       "      <td>NY</td>\n",
       "      <td>priyang bhatt</td>\n",
       "      <td>PRIYANG BHATT</td>\n",
       "      <td>13</td>\n",
       "      <td>New York</td>\n",
       "      <td>New York</td>\n",
       "      <td>New York</td>\n",
       "      <td>Priyang</td>\n",
       "      <td>Bhatt</td>\n",
       "      <td>New York</td>\n",
       "    </tr>\n",
       "  </tbody>\n",
       "</table>\n",
       "</div>"
      ],
      "text/plain": [
       "            Name        City State     name_lower     name_upper  Name_len  \\\n",
       "0  Priyang Bhatt   New York     NY  priyang bhatt  PRIYANG BHATT        13   \n",
       "\n",
       "  City_strip City_lstrip City_rstrip first_name second_name State_replace  \n",
       "0   New York   New York     New York    Priyang       Bhatt      New York  "
      ]
     },
     "execution_count": 31,
     "metadata": {},
     "output_type": "execute_result"
    }
   ],
   "source": [
    "data[data['first_name'].str.startswith('P')]"
   ]
  },
  {
   "cell_type": "code",
   "execution_count": 33,
   "id": "3d19f215",
   "metadata": {},
   "outputs": [],
   "source": [
    "data['ends_with_l'] = data['second_name'].str.endswith('l')"
   ]
  },
  {
   "cell_type": "code",
   "execution_count": 34,
   "id": "392fc168",
   "metadata": {},
   "outputs": [
    {
     "data": {
      "text/html": [
       "<div>\n",
       "<style scoped>\n",
       "    .dataframe tbody tr th:only-of-type {\n",
       "        vertical-align: middle;\n",
       "    }\n",
       "\n",
       "    .dataframe tbody tr th {\n",
       "        vertical-align: top;\n",
       "    }\n",
       "\n",
       "    .dataframe thead th {\n",
       "        text-align: right;\n",
       "    }\n",
       "</style>\n",
       "<table border=\"1\" class=\"dataframe\">\n",
       "  <thead>\n",
       "    <tr style=\"text-align: right;\">\n",
       "      <th></th>\n",
       "      <th>Name</th>\n",
       "      <th>City</th>\n",
       "      <th>State</th>\n",
       "      <th>name_lower</th>\n",
       "      <th>name_upper</th>\n",
       "      <th>Name_len</th>\n",
       "      <th>City_strip</th>\n",
       "      <th>City_lstrip</th>\n",
       "      <th>City_rstrip</th>\n",
       "      <th>first_name</th>\n",
       "      <th>second_name</th>\n",
       "      <th>State_replace</th>\n",
       "      <th>ends_with_l</th>\n",
       "    </tr>\n",
       "  </thead>\n",
       "  <tbody>\n",
       "    <tr>\n",
       "      <th>0</th>\n",
       "      <td>Priyang Bhatt</td>\n",
       "      <td>New York</td>\n",
       "      <td>NY</td>\n",
       "      <td>priyang bhatt</td>\n",
       "      <td>PRIYANG BHATT</td>\n",
       "      <td>13</td>\n",
       "      <td>New York</td>\n",
       "      <td>New York</td>\n",
       "      <td>New York</td>\n",
       "      <td>Priyang</td>\n",
       "      <td>Bhatt</td>\n",
       "      <td>New York</td>\n",
       "      <td>False</td>\n",
       "    </tr>\n",
       "    <tr>\n",
       "      <th>1</th>\n",
       "      <td>Rashmin Panchal</td>\n",
       "      <td>Los Angeles</td>\n",
       "      <td>CA</td>\n",
       "      <td>rashmin panchal</td>\n",
       "      <td>RASHMIN PANCHAL</td>\n",
       "      <td>15</td>\n",
       "      <td>Los Angeles</td>\n",
       "      <td>Los Angeles</td>\n",
       "      <td>Los Angeles</td>\n",
       "      <td>Rashmin</td>\n",
       "      <td>Panchal</td>\n",
       "      <td>Los Angeles</td>\n",
       "      <td>True</td>\n",
       "    </tr>\n",
       "    <tr>\n",
       "      <th>2</th>\n",
       "      <td>Anil Rana</td>\n",
       "      <td>Chicago</td>\n",
       "      <td>IL</td>\n",
       "      <td>anil rana</td>\n",
       "      <td>ANIL RANA</td>\n",
       "      <td>9</td>\n",
       "      <td>Chicago</td>\n",
       "      <td>Chicago</td>\n",
       "      <td>Chicago</td>\n",
       "      <td>Anil</td>\n",
       "      <td>Rana</td>\n",
       "      <td>IL</td>\n",
       "      <td>False</td>\n",
       "    </tr>\n",
       "    <tr>\n",
       "      <th>3</th>\n",
       "      <td>Rahul Patel</td>\n",
       "      <td>Houston</td>\n",
       "      <td>TX</td>\n",
       "      <td>rahul patel</td>\n",
       "      <td>RAHUL PATEL</td>\n",
       "      <td>11</td>\n",
       "      <td>Houston</td>\n",
       "      <td>Houston</td>\n",
       "      <td>Houston</td>\n",
       "      <td>Rahul</td>\n",
       "      <td>Patel</td>\n",
       "      <td>TX</td>\n",
       "      <td>True</td>\n",
       "    </tr>\n",
       "  </tbody>\n",
       "</table>\n",
       "</div>"
      ],
      "text/plain": [
       "              Name           City State       name_lower       name_upper  \\\n",
       "0    Priyang Bhatt      New York     NY    priyang bhatt    PRIYANG BHATT   \n",
       "1  Rashmin Panchal   Los Angeles     CA  rashmin panchal  RASHMIN PANCHAL   \n",
       "2        Anil Rana        Chicago    IL        anil rana        ANIL RANA   \n",
       "3      Rahul Patel        Houston    TX      rahul patel      RAHUL PATEL   \n",
       "\n",
       "   Name_len   City_strip   City_lstrip   City_rstrip first_name second_name  \\\n",
       "0        13     New York     New York       New York    Priyang       Bhatt   \n",
       "1        15  Los Angeles  Los Angeles    Los Angeles    Rashmin     Panchal   \n",
       "2         9      Chicago       Chicago       Chicago       Anil        Rana   \n",
       "3        11      Houston       Houston       Houston      Rahul       Patel   \n",
       "\n",
       "  State_replace  ends_with_l  \n",
       "0      New York        False  \n",
       "1   Los Angeles         True  \n",
       "2            IL        False  \n",
       "3            TX         True  "
      ]
     },
     "execution_count": 34,
     "metadata": {},
     "output_type": "execute_result"
    }
   ],
   "source": [
    "data"
   ]
  },
  {
   "cell_type": "code",
   "execution_count": 35,
   "id": "371bcc1e",
   "metadata": {},
   "outputs": [
    {
     "data": {
      "text/html": [
       "<div>\n",
       "<style scoped>\n",
       "    .dataframe tbody tr th:only-of-type {\n",
       "        vertical-align: middle;\n",
       "    }\n",
       "\n",
       "    .dataframe tbody tr th {\n",
       "        vertical-align: top;\n",
       "    }\n",
       "\n",
       "    .dataframe thead th {\n",
       "        text-align: right;\n",
       "    }\n",
       "</style>\n",
       "<table border=\"1\" class=\"dataframe\">\n",
       "  <thead>\n",
       "    <tr style=\"text-align: right;\">\n",
       "      <th></th>\n",
       "      <th>Name</th>\n",
       "      <th>City</th>\n",
       "      <th>State</th>\n",
       "      <th>name_lower</th>\n",
       "      <th>name_upper</th>\n",
       "      <th>Name_len</th>\n",
       "      <th>City_strip</th>\n",
       "      <th>City_lstrip</th>\n",
       "      <th>City_rstrip</th>\n",
       "      <th>first_name</th>\n",
       "      <th>second_name</th>\n",
       "      <th>State_replace</th>\n",
       "      <th>ends_with_l</th>\n",
       "    </tr>\n",
       "  </thead>\n",
       "  <tbody>\n",
       "    <tr>\n",
       "      <th>1</th>\n",
       "      <td>Rashmin Panchal</td>\n",
       "      <td>Los Angeles</td>\n",
       "      <td>CA</td>\n",
       "      <td>rashmin panchal</td>\n",
       "      <td>RASHMIN PANCHAL</td>\n",
       "      <td>15</td>\n",
       "      <td>Los Angeles</td>\n",
       "      <td>Los Angeles</td>\n",
       "      <td>Los Angeles</td>\n",
       "      <td>Rashmin</td>\n",
       "      <td>Panchal</td>\n",
       "      <td>Los Angeles</td>\n",
       "      <td>True</td>\n",
       "    </tr>\n",
       "    <tr>\n",
       "      <th>3</th>\n",
       "      <td>Rahul Patel</td>\n",
       "      <td>Houston</td>\n",
       "      <td>TX</td>\n",
       "      <td>rahul patel</td>\n",
       "      <td>RAHUL PATEL</td>\n",
       "      <td>11</td>\n",
       "      <td>Houston</td>\n",
       "      <td>Houston</td>\n",
       "      <td>Houston</td>\n",
       "      <td>Rahul</td>\n",
       "      <td>Patel</td>\n",
       "      <td>TX</td>\n",
       "      <td>True</td>\n",
       "    </tr>\n",
       "  </tbody>\n",
       "</table>\n",
       "</div>"
      ],
      "text/plain": [
       "              Name           City State       name_lower       name_upper  \\\n",
       "1  Rashmin Panchal   Los Angeles     CA  rashmin panchal  RASHMIN PANCHAL   \n",
       "3      Rahul Patel        Houston    TX      rahul patel      RAHUL PATEL   \n",
       "\n",
       "   Name_len   City_strip   City_lstrip   City_rstrip first_name second_name  \\\n",
       "1        15  Los Angeles  Los Angeles    Los Angeles    Rashmin     Panchal   \n",
       "3        11      Houston       Houston       Houston      Rahul       Patel   \n",
       "\n",
       "  State_replace  ends_with_l  \n",
       "1   Los Angeles         True  \n",
       "3            TX         True  "
      ]
     },
     "execution_count": 35,
     "metadata": {},
     "output_type": "execute_result"
    }
   ],
   "source": [
    "data[data['second_name'].str.endswith('l')]"
   ]
  },
  {
   "cell_type": "markdown",
   "id": "24f81da3",
   "metadata": {},
   "source": [
    "### str.cat()---used to concatenate strings"
   ]
  },
  {
   "cell_type": "code",
   "execution_count": 37,
   "id": "d3f5258c",
   "metadata": {},
   "outputs": [
    {
     "data": {
      "text/plain": [
       "0      Priyang Bhatt\n",
       "1    Rashmin Panchal\n",
       "2          Anil Rana\n",
       "3        Rahul Patel\n",
       "Name: first_name, dtype: object"
      ]
     },
     "execution_count": 37,
     "metadata": {},
     "output_type": "execute_result"
    }
   ],
   "source": [
    "data['first_name'].str.cat(data['second_name'], sep=' ')"
   ]
  },
  {
   "cell_type": "code",
   "execution_count": 38,
   "id": "dfc44119",
   "metadata": {},
   "outputs": [],
   "source": [
    "data['full_name'] = data['first_name'].str.cat(data['second_name'], sep=' ')"
   ]
  },
  {
   "cell_type": "code",
   "execution_count": 39,
   "id": "7f928509",
   "metadata": {},
   "outputs": [
    {
     "data": {
      "text/html": [
       "<div>\n",
       "<style scoped>\n",
       "    .dataframe tbody tr th:only-of-type {\n",
       "        vertical-align: middle;\n",
       "    }\n",
       "\n",
       "    .dataframe tbody tr th {\n",
       "        vertical-align: top;\n",
       "    }\n",
       "\n",
       "    .dataframe thead th {\n",
       "        text-align: right;\n",
       "    }\n",
       "</style>\n",
       "<table border=\"1\" class=\"dataframe\">\n",
       "  <thead>\n",
       "    <tr style=\"text-align: right;\">\n",
       "      <th></th>\n",
       "      <th>Name</th>\n",
       "      <th>City</th>\n",
       "      <th>State</th>\n",
       "      <th>name_lower</th>\n",
       "      <th>name_upper</th>\n",
       "      <th>Name_len</th>\n",
       "      <th>City_strip</th>\n",
       "      <th>City_lstrip</th>\n",
       "      <th>City_rstrip</th>\n",
       "      <th>first_name</th>\n",
       "      <th>second_name</th>\n",
       "      <th>State_replace</th>\n",
       "      <th>ends_with_l</th>\n",
       "      <th>full_name</th>\n",
       "    </tr>\n",
       "  </thead>\n",
       "  <tbody>\n",
       "    <tr>\n",
       "      <th>0</th>\n",
       "      <td>Priyang Bhatt</td>\n",
       "      <td>New York</td>\n",
       "      <td>NY</td>\n",
       "      <td>priyang bhatt</td>\n",
       "      <td>PRIYANG BHATT</td>\n",
       "      <td>13</td>\n",
       "      <td>New York</td>\n",
       "      <td>New York</td>\n",
       "      <td>New York</td>\n",
       "      <td>Priyang</td>\n",
       "      <td>Bhatt</td>\n",
       "      <td>New York</td>\n",
       "      <td>False</td>\n",
       "      <td>Priyang Bhatt</td>\n",
       "    </tr>\n",
       "    <tr>\n",
       "      <th>1</th>\n",
       "      <td>Rashmin Panchal</td>\n",
       "      <td>Los Angeles</td>\n",
       "      <td>CA</td>\n",
       "      <td>rashmin panchal</td>\n",
       "      <td>RASHMIN PANCHAL</td>\n",
       "      <td>15</td>\n",
       "      <td>Los Angeles</td>\n",
       "      <td>Los Angeles</td>\n",
       "      <td>Los Angeles</td>\n",
       "      <td>Rashmin</td>\n",
       "      <td>Panchal</td>\n",
       "      <td>Los Angeles</td>\n",
       "      <td>True</td>\n",
       "      <td>Rashmin Panchal</td>\n",
       "    </tr>\n",
       "    <tr>\n",
       "      <th>2</th>\n",
       "      <td>Anil Rana</td>\n",
       "      <td>Chicago</td>\n",
       "      <td>IL</td>\n",
       "      <td>anil rana</td>\n",
       "      <td>ANIL RANA</td>\n",
       "      <td>9</td>\n",
       "      <td>Chicago</td>\n",
       "      <td>Chicago</td>\n",
       "      <td>Chicago</td>\n",
       "      <td>Anil</td>\n",
       "      <td>Rana</td>\n",
       "      <td>IL</td>\n",
       "      <td>False</td>\n",
       "      <td>Anil Rana</td>\n",
       "    </tr>\n",
       "    <tr>\n",
       "      <th>3</th>\n",
       "      <td>Rahul Patel</td>\n",
       "      <td>Houston</td>\n",
       "      <td>TX</td>\n",
       "      <td>rahul patel</td>\n",
       "      <td>RAHUL PATEL</td>\n",
       "      <td>11</td>\n",
       "      <td>Houston</td>\n",
       "      <td>Houston</td>\n",
       "      <td>Houston</td>\n",
       "      <td>Rahul</td>\n",
       "      <td>Patel</td>\n",
       "      <td>TX</td>\n",
       "      <td>True</td>\n",
       "      <td>Rahul Patel</td>\n",
       "    </tr>\n",
       "  </tbody>\n",
       "</table>\n",
       "</div>"
      ],
      "text/plain": [
       "              Name           City State       name_lower       name_upper  \\\n",
       "0    Priyang Bhatt      New York     NY    priyang bhatt    PRIYANG BHATT   \n",
       "1  Rashmin Panchal   Los Angeles     CA  rashmin panchal  RASHMIN PANCHAL   \n",
       "2        Anil Rana        Chicago    IL        anil rana        ANIL RANA   \n",
       "3      Rahul Patel        Houston    TX      rahul patel      RAHUL PATEL   \n",
       "\n",
       "   Name_len   City_strip   City_lstrip   City_rstrip first_name second_name  \\\n",
       "0        13     New York     New York       New York    Priyang       Bhatt   \n",
       "1        15  Los Angeles  Los Angeles    Los Angeles    Rashmin     Panchal   \n",
       "2         9      Chicago       Chicago       Chicago       Anil        Rana   \n",
       "3        11      Houston       Houston       Houston      Rahul       Patel   \n",
       "\n",
       "  State_replace  ends_with_l        full_name  \n",
       "0      New York        False    Priyang Bhatt  \n",
       "1   Los Angeles         True  Rashmin Panchal  \n",
       "2            IL        False        Anil Rana  \n",
       "3            TX         True      Rahul Patel  "
      ]
     },
     "execution_count": 39,
     "metadata": {},
     "output_type": "execute_result"
    }
   ],
   "source": [
    "data"
   ]
  },
  {
   "cell_type": "markdown",
   "id": "f8287c53",
   "metadata": {},
   "source": [
    "### str.get()----to extract elements based on index"
   ]
  },
  {
   "cell_type": "code",
   "execution_count": 40,
   "id": "0cbabb94",
   "metadata": {},
   "outputs": [
    {
     "data": {
      "text/plain": [
       "0    P\n",
       "1    R\n",
       "2    A\n",
       "3    R\n",
       "Name: Name, dtype: object"
      ]
     },
     "execution_count": 40,
     "metadata": {},
     "output_type": "execute_result"
    }
   ],
   "source": [
    "data['Name'].str.get(0)"
   ]
  },
  {
   "cell_type": "code",
   "execution_count": 41,
   "id": "623bad34",
   "metadata": {},
   "outputs": [
    {
     "data": {
      "text/plain": [
       "0    t\n",
       "1    l\n",
       "2    a\n",
       "3    l\n",
       "Name: Name, dtype: object"
      ]
     },
     "execution_count": 41,
     "metadata": {},
     "output_type": "execute_result"
    }
   ],
   "source": [
    "data['Name'].str.get(-1)"
   ]
  },
  {
   "cell_type": "code",
   "execution_count": 42,
   "id": "eabeaad2",
   "metadata": {},
   "outputs": [
    {
     "data": {
      "text/plain": [
       "0      [Priyang, Bhatt]\n",
       "1    [Rashmin, Panchal]\n",
       "2          [Anil, Rana]\n",
       "3        [Rahul, Patel]\n",
       "Name: Name, dtype: object"
      ]
     },
     "execution_count": 42,
     "metadata": {},
     "output_type": "execute_result"
    }
   ],
   "source": [
    "data['Name'].str.split()"
   ]
  },
  {
   "cell_type": "code",
   "execution_count": 43,
   "id": "511f7543",
   "metadata": {},
   "outputs": [
    {
     "data": {
      "text/plain": [
       "0    Priyang\n",
       "1    Rashmin\n",
       "2       Anil\n",
       "3      Rahul\n",
       "Name: Name, dtype: object"
      ]
     },
     "execution_count": 43,
     "metadata": {},
     "output_type": "execute_result"
    }
   ],
   "source": [
    "data['Name'].str.split().str.get(0)"
   ]
  },
  {
   "cell_type": "code",
   "execution_count": 44,
   "id": "63d3b107",
   "metadata": {},
   "outputs": [
    {
     "data": {
      "text/plain": [
       "0      Bhatt\n",
       "1    Panchal\n",
       "2       Rana\n",
       "3      Patel\n",
       "Name: Name, dtype: object"
      ]
     },
     "execution_count": 44,
     "metadata": {},
     "output_type": "execute_result"
    }
   ],
   "source": [
    "data['Name'].str.split().str.get(-1)"
   ]
  },
  {
   "cell_type": "code",
   "execution_count": null,
   "id": "60a15210",
   "metadata": {},
   "outputs": [],
   "source": []
  },
  {
   "cell_type": "markdown",
   "id": "37b567e6",
   "metadata": {},
   "source": [
    "### str.slice()---to extract substring"
   ]
  },
  {
   "cell_type": "code",
   "execution_count": 45,
   "id": "f20c72be",
   "metadata": {},
   "outputs": [
    {
     "data": {
      "text/plain": [
       "0    att\n",
       "1    hal\n",
       "2    ana\n",
       "3    tel\n",
       "Name: Name, dtype: object"
      ]
     },
     "execution_count": 45,
     "metadata": {},
     "output_type": "execute_result"
    }
   ],
   "source": [
    "data['Name'].str.slice(-3)"
   ]
  },
  {
   "cell_type": "code",
   "execution_count": 46,
   "id": "4d5798b9",
   "metadata": {},
   "outputs": [
    {
     "data": {
      "text/plain": [
       "0    Pri\n",
       "1    Ras\n",
       "2    Ani\n",
       "3    Rah\n",
       "Name: Name, dtype: object"
      ]
     },
     "execution_count": 46,
     "metadata": {},
     "output_type": "execute_result"
    }
   ],
   "source": [
    "data['Name'].str.slice(0,3)"
   ]
  },
  {
   "cell_type": "code",
   "execution_count": 47,
   "id": "664f26e6",
   "metadata": {},
   "outputs": [],
   "source": [
    "data['name_state'] = data['Name'].str.slice(0,3)+' '+data['State']"
   ]
  },
  {
   "cell_type": "code",
   "execution_count": 48,
   "id": "b761bda5",
   "metadata": {},
   "outputs": [
    {
     "data": {
      "text/html": [
       "<div>\n",
       "<style scoped>\n",
       "    .dataframe tbody tr th:only-of-type {\n",
       "        vertical-align: middle;\n",
       "    }\n",
       "\n",
       "    .dataframe tbody tr th {\n",
       "        vertical-align: top;\n",
       "    }\n",
       "\n",
       "    .dataframe thead th {\n",
       "        text-align: right;\n",
       "    }\n",
       "</style>\n",
       "<table border=\"1\" class=\"dataframe\">\n",
       "  <thead>\n",
       "    <tr style=\"text-align: right;\">\n",
       "      <th></th>\n",
       "      <th>Name</th>\n",
       "      <th>City</th>\n",
       "      <th>State</th>\n",
       "      <th>name_lower</th>\n",
       "      <th>name_upper</th>\n",
       "      <th>Name_len</th>\n",
       "      <th>City_strip</th>\n",
       "      <th>City_lstrip</th>\n",
       "      <th>City_rstrip</th>\n",
       "      <th>first_name</th>\n",
       "      <th>second_name</th>\n",
       "      <th>State_replace</th>\n",
       "      <th>ends_with_l</th>\n",
       "      <th>full_name</th>\n",
       "      <th>name_state</th>\n",
       "    </tr>\n",
       "  </thead>\n",
       "  <tbody>\n",
       "    <tr>\n",
       "      <th>0</th>\n",
       "      <td>Priyang Bhatt</td>\n",
       "      <td>New York</td>\n",
       "      <td>NY</td>\n",
       "      <td>priyang bhatt</td>\n",
       "      <td>PRIYANG BHATT</td>\n",
       "      <td>13</td>\n",
       "      <td>New York</td>\n",
       "      <td>New York</td>\n",
       "      <td>New York</td>\n",
       "      <td>Priyang</td>\n",
       "      <td>Bhatt</td>\n",
       "      <td>New York</td>\n",
       "      <td>False</td>\n",
       "      <td>Priyang Bhatt</td>\n",
       "      <td>Pri NY</td>\n",
       "    </tr>\n",
       "    <tr>\n",
       "      <th>1</th>\n",
       "      <td>Rashmin Panchal</td>\n",
       "      <td>Los Angeles</td>\n",
       "      <td>CA</td>\n",
       "      <td>rashmin panchal</td>\n",
       "      <td>RASHMIN PANCHAL</td>\n",
       "      <td>15</td>\n",
       "      <td>Los Angeles</td>\n",
       "      <td>Los Angeles</td>\n",
       "      <td>Los Angeles</td>\n",
       "      <td>Rashmin</td>\n",
       "      <td>Panchal</td>\n",
       "      <td>Los Angeles</td>\n",
       "      <td>True</td>\n",
       "      <td>Rashmin Panchal</td>\n",
       "      <td>Ras CA</td>\n",
       "    </tr>\n",
       "    <tr>\n",
       "      <th>2</th>\n",
       "      <td>Anil Rana</td>\n",
       "      <td>Chicago</td>\n",
       "      <td>IL</td>\n",
       "      <td>anil rana</td>\n",
       "      <td>ANIL RANA</td>\n",
       "      <td>9</td>\n",
       "      <td>Chicago</td>\n",
       "      <td>Chicago</td>\n",
       "      <td>Chicago</td>\n",
       "      <td>Anil</td>\n",
       "      <td>Rana</td>\n",
       "      <td>IL</td>\n",
       "      <td>False</td>\n",
       "      <td>Anil Rana</td>\n",
       "      <td>Ani IL</td>\n",
       "    </tr>\n",
       "    <tr>\n",
       "      <th>3</th>\n",
       "      <td>Rahul Patel</td>\n",
       "      <td>Houston</td>\n",
       "      <td>TX</td>\n",
       "      <td>rahul patel</td>\n",
       "      <td>RAHUL PATEL</td>\n",
       "      <td>11</td>\n",
       "      <td>Houston</td>\n",
       "      <td>Houston</td>\n",
       "      <td>Houston</td>\n",
       "      <td>Rahul</td>\n",
       "      <td>Patel</td>\n",
       "      <td>TX</td>\n",
       "      <td>True</td>\n",
       "      <td>Rahul Patel</td>\n",
       "      <td>Rah TX</td>\n",
       "    </tr>\n",
       "  </tbody>\n",
       "</table>\n",
       "</div>"
      ],
      "text/plain": [
       "              Name           City State       name_lower       name_upper  \\\n",
       "0    Priyang Bhatt      New York     NY    priyang bhatt    PRIYANG BHATT   \n",
       "1  Rashmin Panchal   Los Angeles     CA  rashmin panchal  RASHMIN PANCHAL   \n",
       "2        Anil Rana        Chicago    IL        anil rana        ANIL RANA   \n",
       "3      Rahul Patel        Houston    TX      rahul patel      RAHUL PATEL   \n",
       "\n",
       "   Name_len   City_strip   City_lstrip   City_rstrip first_name second_name  \\\n",
       "0        13     New York     New York       New York    Priyang       Bhatt   \n",
       "1        15  Los Angeles  Los Angeles    Los Angeles    Rashmin     Panchal   \n",
       "2         9      Chicago       Chicago       Chicago       Anil        Rana   \n",
       "3        11      Houston       Houston       Houston      Rahul       Patel   \n",
       "\n",
       "  State_replace  ends_with_l        full_name name_state  \n",
       "0      New York        False    Priyang Bhatt     Pri NY  \n",
       "1   Los Angeles         True  Rashmin Panchal     Ras CA  \n",
       "2            IL        False        Anil Rana     Ani IL  \n",
       "3            TX         True      Rahul Patel     Rah TX  "
      ]
     },
     "execution_count": 48,
     "metadata": {},
     "output_type": "execute_result"
    }
   ],
   "source": [
    "data"
   ]
  },
  {
   "cell_type": "markdown",
   "id": "c8113209",
   "metadata": {},
   "source": [
    "### str.find()----return 1st index position of substring, if the string is not found it returns -1"
   ]
  },
  {
   "cell_type": "code",
   "execution_count": 49,
   "id": "c5ea0ae2",
   "metadata": {},
   "outputs": [
    {
     "data": {
      "text/plain": [
       "0      Priyang Bhatt\n",
       "1    Rashmin Panchal\n",
       "2          Anil Rana\n",
       "3        Rahul Patel\n",
       "Name: Name, dtype: object"
      ]
     },
     "execution_count": 49,
     "metadata": {},
     "output_type": "execute_result"
    }
   ],
   "source": [
    "data['Name']"
   ]
  },
  {
   "cell_type": "code",
   "execution_count": 50,
   "id": "29cc2bcf",
   "metadata": {},
   "outputs": [
    {
     "data": {
      "text/plain": [
       "0    2\n",
       "1    5\n",
       "2    2\n",
       "3   -1\n",
       "Name: Name, dtype: int64"
      ]
     },
     "execution_count": 50,
     "metadata": {},
     "output_type": "execute_result"
    }
   ],
   "source": [
    "data['Name'].str.find('i')"
   ]
  },
  {
   "cell_type": "markdown",
   "id": "3d1fff23",
   "metadata": {},
   "source": [
    "### str.rfind()---returns highest index position of substring"
   ]
  },
  {
   "cell_type": "code",
   "execution_count": 51,
   "id": "c1788cb7",
   "metadata": {},
   "outputs": [
    {
     "data": {
      "text/plain": [
       "0    10\n",
       "1    13\n",
       "2     8\n",
       "3     7\n",
       "Name: Name, dtype: int64"
      ]
     },
     "execution_count": 51,
     "metadata": {},
     "output_type": "execute_result"
    }
   ],
   "source": [
    "data['Name'].str.rfind('a')"
   ]
  },
  {
   "cell_type": "code",
   "execution_count": null,
   "id": "6aeccb87",
   "metadata": {},
   "outputs": [],
   "source": []
  }
 ],
 "metadata": {
  "kernelspec": {
   "display_name": "Python 3 (ipykernel)",
   "language": "python",
   "name": "python3"
  },
  "language_info": {
   "codemirror_mode": {
    "name": "ipython",
    "version": 3
   },
   "file_extension": ".py",
   "mimetype": "text/x-python",
   "name": "python",
   "nbconvert_exporter": "python",
   "pygments_lexer": "ipython3",
   "version": "3.9.12"
  }
 },
 "nbformat": 4,
 "nbformat_minor": 5
}
